{
 "cells": [
  {
   "cell_type": "code",
   "execution_count": 1,
   "metadata": {
    "scrolled": false
   },
   "outputs": [
    {
     "name": "stdout",
     "output_type": "stream",
     "text": [
      "Requirement already satisfied: albumentations in /home/amirak/anaconda3/lib/python3.7/site-packages (1.3.0)\n",
      "Requirement already satisfied: scipy in /home/amirak/anaconda3/lib/python3.7/site-packages (from albumentations) (1.7.3)\n",
      "Requirement already satisfied: numpy>=1.11.1 in /home/amirak/anaconda3/lib/python3.7/site-packages (from albumentations) (1.21.5)\n",
      "Requirement already satisfied: opencv-python-headless>=4.1.1 in /home/amirak/anaconda3/lib/python3.7/site-packages (from albumentations) (4.6.0.66)\n",
      "Requirement already satisfied: qudida>=0.0.4 in /home/amirak/anaconda3/lib/python3.7/site-packages (from albumentations) (0.0.4)\n",
      "Requirement already satisfied: PyYAML in /home/amirak/anaconda3/lib/python3.7/site-packages (from albumentations) (6.0)\n",
      "Requirement already satisfied: scikit-image>=0.16.1 in /home/amirak/anaconda3/lib/python3.7/site-packages (from albumentations) (0.19.2)\n",
      "Requirement already satisfied: typing-extensions in /home/amirak/anaconda3/lib/python3.7/site-packages (from qudida>=0.0.4->albumentations) (4.3.0)\n",
      "Requirement already satisfied: scikit-learn>=0.19.1 in /home/amirak/anaconda3/lib/python3.7/site-packages (from qudida>=0.0.4->albumentations) (1.0.2)\n",
      "Requirement already satisfied: imageio>=2.4.1 in /home/amirak/anaconda3/lib/python3.7/site-packages (from scikit-image>=0.16.1->albumentations) (2.19.3)\n",
      "Requirement already satisfied: tifffile>=2019.7.26 in /home/amirak/anaconda3/lib/python3.7/site-packages (from scikit-image>=0.16.1->albumentations) (2021.7.2)\n",
      "Requirement already satisfied: pillow!=7.1.0,!=7.1.1,!=8.3.0,>=6.1.0 in /home/amirak/anaconda3/lib/python3.7/site-packages (from scikit-image>=0.16.1->albumentations) (9.2.0)\n",
      "Requirement already satisfied: PyWavelets>=1.1.1 in /home/amirak/anaconda3/lib/python3.7/site-packages (from scikit-image>=0.16.1->albumentations) (1.3.0)\n",
      "Requirement already satisfied: networkx>=2.2 in /home/amirak/anaconda3/lib/python3.7/site-packages (from scikit-image>=0.16.1->albumentations) (2.4)\n",
      "Requirement already satisfied: packaging>=20.0 in /home/amirak/anaconda3/lib/python3.7/site-packages (from scikit-image>=0.16.1->albumentations) (21.3)\n",
      "Requirement already satisfied: decorator>=4.3.0 in /home/amirak/anaconda3/lib/python3.7/site-packages (from networkx>=2.2->scikit-image>=0.16.1->albumentations) (5.1.1)\n",
      "Requirement already satisfied: pyparsing!=3.0.5,>=2.0.2 in /home/amirak/anaconda3/lib/python3.7/site-packages (from packaging>=20.0->scikit-image>=0.16.1->albumentations) (3.0.9)\n",
      "Requirement already satisfied: joblib>=0.11 in /home/amirak/anaconda3/lib/python3.7/site-packages (from scikit-learn>=0.19.1->qudida>=0.0.4->albumentations) (1.1.1)\n",
      "Requirement already satisfied: threadpoolctl>=2.0.0 in /home/amirak/anaconda3/lib/python3.7/site-packages (from scikit-learn>=0.19.1->qudida>=0.0.4->albumentations) (2.2.0)\n"
     ]
    }
   ],
   "source": [
    "!pip install albumentations"
   ]
  },
  {
   "cell_type": "code",
   "execution_count": 2,
   "metadata": {},
   "outputs": [
    {
     "name": "stdout",
     "output_type": "stream",
     "text": [
      "Requirement already satisfied: einops in /home/amirak/anaconda3/lib/python3.7/site-packages (0.5.0)\r\n"
     ]
    }
   ],
   "source": [
    "!pip install einops"
   ]
  },
  {
   "cell_type": "code",
   "execution_count": 3,
   "metadata": {},
   "outputs": [
    {
     "name": "stdout",
     "output_type": "stream",
     "text": [
      "Requirement already satisfied: torch in /home/amirak/anaconda3/lib/python3.7/site-packages (1.12.1)\n",
      "Requirement already satisfied: torchvision in /home/amirak/anaconda3/lib/python3.7/site-packages (0.13.1)\n",
      "Requirement already satisfied: tensorboard in /home/amirak/anaconda3/lib/python3.7/site-packages (2.10.1)\n",
      "Requirement already satisfied: typing_extensions in /home/amirak/anaconda3/lib/python3.7/site-packages (from torch) (4.3.0)\n",
      "Requirement already satisfied: numpy in /home/amirak/anaconda3/lib/python3.7/site-packages (from torchvision) (1.21.5)\n",
      "Requirement already satisfied: requests in /home/amirak/anaconda3/lib/python3.7/site-packages (from torchvision) (2.28.1)\n",
      "Requirement already satisfied: pillow!=8.3.*,>=5.3.0 in /home/amirak/anaconda3/lib/python3.7/site-packages (from torchvision) (9.2.0)\n",
      "Requirement already satisfied: wheel>=0.26 in /home/amirak/anaconda3/lib/python3.7/site-packages (from tensorboard) (0.37.1)\n",
      "Requirement already satisfied: tensorboard-plugin-wit>=1.6.0 in /home/amirak/anaconda3/lib/python3.7/site-packages (from tensorboard) (1.8.1)\n",
      "Requirement already satisfied: tensorboard-data-server<0.7.0,>=0.6.0 in /home/amirak/anaconda3/lib/python3.7/site-packages (from tensorboard) (0.6.1)\n",
      "Requirement already satisfied: google-auth-oauthlib<0.5,>=0.4.1 in /home/amirak/anaconda3/lib/python3.7/site-packages (from tensorboard) (0.4.6)\n",
      "Requirement already satisfied: absl-py>=0.4 in /home/amirak/anaconda3/lib/python3.7/site-packages (from tensorboard) (1.3.0)\n",
      "Requirement already satisfied: werkzeug>=1.0.1 in /home/amirak/anaconda3/lib/python3.7/site-packages (from tensorboard) (2.2.2)\n",
      "Requirement already satisfied: google-auth<3,>=1.6.3 in /home/amirak/anaconda3/lib/python3.7/site-packages (from tensorboard) (2.13.0)\n",
      "Requirement already satisfied: grpcio>=1.24.3 in /home/amirak/anaconda3/lib/python3.7/site-packages (from tensorboard) (1.50.0)\n",
      "Requirement already satisfied: markdown>=2.6.8 in /home/amirak/anaconda3/lib/python3.7/site-packages (from tensorboard) (3.4.1)\n",
      "Requirement already satisfied: setuptools>=41.0.0 in /home/amirak/anaconda3/lib/python3.7/site-packages (from tensorboard) (63.4.1)\n",
      "Requirement already satisfied: protobuf<3.20,>=3.9.2 in /home/amirak/anaconda3/lib/python3.7/site-packages (from tensorboard) (3.19.6)\n",
      "Requirement already satisfied: six>=1.9.0 in /home/amirak/anaconda3/lib/python3.7/site-packages (from google-auth<3,>=1.6.3->tensorboard) (1.16.0)\n",
      "Requirement already satisfied: cachetools<6.0,>=2.0.0 in /home/amirak/anaconda3/lib/python3.7/site-packages (from google-auth<3,>=1.6.3->tensorboard) (5.2.0)\n",
      "Requirement already satisfied: pyasn1-modules>=0.2.1 in /home/amirak/anaconda3/lib/python3.7/site-packages (from google-auth<3,>=1.6.3->tensorboard) (0.2.8)\n",
      "Requirement already satisfied: rsa<5,>=3.1.4 in /home/amirak/anaconda3/lib/python3.7/site-packages (from google-auth<3,>=1.6.3->tensorboard) (4.9)\n",
      "Requirement already satisfied: requests-oauthlib>=0.7.0 in /home/amirak/anaconda3/lib/python3.7/site-packages (from google-auth-oauthlib<0.5,>=0.4.1->tensorboard) (1.3.1)\n",
      "Requirement already satisfied: importlib-metadata>=4.4 in /home/amirak/anaconda3/lib/python3.7/site-packages (from markdown>=2.6.8->tensorboard) (5.0.0)\n",
      "Requirement already satisfied: idna<4,>=2.5 in /home/amirak/anaconda3/lib/python3.7/site-packages (from requests->torchvision) (3.4)\n",
      "Requirement already satisfied: charset-normalizer<3,>=2 in /home/amirak/anaconda3/lib/python3.7/site-packages (from requests->torchvision) (2.0.4)\n",
      "Requirement already satisfied: certifi>=2017.4.17 in /home/amirak/anaconda3/lib/python3.7/site-packages (from requests->torchvision) (2022.9.24)\n",
      "Requirement already satisfied: urllib3<1.27,>=1.21.1 in /home/amirak/anaconda3/lib/python3.7/site-packages (from requests->torchvision) (1.26.12)\n",
      "Requirement already satisfied: MarkupSafe>=2.1.1 in /home/amirak/anaconda3/lib/python3.7/site-packages (from werkzeug>=1.0.1->tensorboard) (2.1.1)\n",
      "Requirement already satisfied: zipp>=0.5 in /home/amirak/anaconda3/lib/python3.7/site-packages (from importlib-metadata>=4.4->markdown>=2.6.8->tensorboard) (3.8.0)\n",
      "Requirement already satisfied: pyasn1<0.5.0,>=0.4.6 in /home/amirak/anaconda3/lib/python3.7/site-packages (from pyasn1-modules>=0.2.1->google-auth<3,>=1.6.3->tensorboard) (0.4.8)\n",
      "Requirement already satisfied: oauthlib>=3.0.0 in /home/amirak/anaconda3/lib/python3.7/site-packages (from requests-oauthlib>=0.7.0->google-auth-oauthlib<0.5,>=0.4.1->tensorboard) (3.2.2)\n"
     ]
    }
   ],
   "source": [
    "!pip install torch torchvision tensorboard"
   ]
  },
  {
   "cell_type": "code",
   "execution_count": 10,
   "metadata": {},
   "outputs": [
    {
     "name": "stdout",
     "output_type": "stream",
     "text": [
      "Epoch 0/4\n",
      "----------\n",
      "train  loss: 0 : 0.7322015762329102\n",
      "Train Epoch: 0 [0/55 (0%)]\tLoss: 0.732202\n",
      "train Loss: 1.0376 Acc: 0.6000\n",
      "validation  loss: 0 : 0.9117656946182251\n",
      "Train Epoch: 0 [0/56 (0%)]\tLoss: 0.911766\n",
      "validation Loss: 0.9718 Acc: 0.5893\n",
      "Validation loss decreased (0.971789 --> 10000.000000).  Saving model ...\n",
      "Epoch 1/4\n",
      "----------\n",
      "train  loss: 0 : 0.7013373374938965\n",
      "Train Epoch: 1 [0/55 (0%)]\tLoss: 0.701337\n",
      "train Loss: 0.9484 Acc: 0.6182\n",
      "validation  loss: 0 : 1.0301949977874756\n",
      "Train Epoch: 1 [0/56 (0%)]\tLoss: 1.030195\n",
      "validation Loss: 0.9321 Acc: 0.6071\n",
      "Validation loss decreased (0.932053 --> 0.971789).  Saving model ...\n",
      "Epoch 2/4\n",
      "----------\n",
      "train  loss: 0 : 1.075075387954712\n",
      "Train Epoch: 2 [0/55 (0%)]\tLoss: 1.075075\n",
      "train Loss: 0.9521 Acc: 0.5455\n",
      "validation  loss: 0 : 0.8179844617843628\n",
      "Train Epoch: 2 [0/56 (0%)]\tLoss: 0.817984\n",
      "validation Loss: 0.8825 Acc: 0.4464\n",
      "Validation loss decreased (0.882452 --> 0.932053).  Saving model ...\n",
      "Epoch 3/4\n",
      "----------\n",
      "train  loss: 0 : 0.8887099027633667\n",
      "Train Epoch: 3 [0/55 (0%)]\tLoss: 0.888710\n",
      "train Loss: 0.9460 Acc: 0.4727\n",
      "validation  loss: 0 : 0.9210286736488342\n",
      "Train Epoch: 3 [0/56 (0%)]\tLoss: 0.921029\n",
      "validation Loss: 0.9704 Acc: 0.4643\n",
      "Epoch 4/4\n",
      "----------\n",
      "train  loss: 0 : 0.7023918032646179\n",
      "Train Epoch: 4 [0/55 (0%)]\tLoss: 0.702392\n",
      "train Loss: 0.7288 Acc: 0.5636\n",
      "validation  loss: 0 : 0.825725793838501\n",
      "Train Epoch: 4 [0/56 (0%)]\tLoss: 0.825726\n",
      "validation Loss: 0.7703 Acc: 0.5536\n",
      "Validation loss decreased (0.770315 --> 0.882452).  Saving model ...\n",
      "Training complete in 2m 18s\n",
      "Best val Acc: 0.000000\n",
      "Prediction:  51.78571428571429 %\n"
     ]
    }
   ],
   "source": [
    "!python CViT/cvit_train.py -e 5 -s 'g' -l 0.0001 -w 0.0000001 -d CViT/sample_train_data"
   ]
  }
 ],
 "metadata": {
  "kernelspec": {
   "display_name": "Python 3 (ipykernel)",
   "language": "python",
   "name": "python3"
  },
  "language_info": {
   "codemirror_mode": {
    "name": "ipython",
    "version": 3
   },
   "file_extension": ".py",
   "mimetype": "text/x-python",
   "name": "python",
   "nbconvert_exporter": "python",
   "pygments_lexer": "ipython3",
   "version": "3.7.13"
  }
 },
 "nbformat": 4,
 "nbformat_minor": 4
}
